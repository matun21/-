{
 "cells": [
  {
   "cell_type": "markdown",
   "metadata": {},
   "source": [
    "import sys sys.path.append(‘/path/to/your/scripts’) \\# Укажите путь к\n",
    "вашим скриптам\n",
    "\n",
    "from text_processor import TextProcessor from tfidf import TFIDF\n",
    "\n",
    "url = ‘https://www.gutenberg.org/files/4300/4300-h/4300-h.htm’\n",
    "text_processor = TextProcessor(url)\n",
    "text_processor.find_in_context(‘buck’, 3, 3)\n",
    "\n",
    "documents = \\[ “Кошка сидит на окне”, “Собака лает на прохожих”, “Птицы\n",
    "поют утром”, “На столе стоит ваза с цветами”, “Машина едет по дороге”,\n",
    "“Дети играют на площадке”\\]\n",
    "\n",
    "tfidf = TFIDF(documents) word = ‘на’ doc_number = 0\n",
    "\n",
    "print(f”TF: {tfidf.get_tf(word, doc_number)}“) print(f”IDF:\n",
    "{tfidf.get_idf(word)}“) print(f”TF-IDF: {tfidf.get_tf_idf(word,\n",
    "doc_number)}“)"
   ],
   "id": "42a14256-91c8-446e-92a7-ab6bf11055d3"
  }
 ],
 "nbformat": 4,
 "nbformat_minor": 5,
 "metadata": {}
}
